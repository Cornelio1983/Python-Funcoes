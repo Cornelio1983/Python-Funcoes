{
  "nbformat": 4,
  "nbformat_minor": 0,
  "metadata": {
    "colab": {
      "provenance": [],
      "authorship_tag": "ABX9TyMqvng95/1BDKXeG4tKc9Ga",
      "include_colab_link": true
    },
    "kernelspec": {
      "name": "python3",
      "display_name": "Python 3"
    },
    "language_info": {
      "name": "python"
    }
  },
  "cells": [
    {
      "cell_type": "markdown",
      "metadata": {
        "id": "view-in-github",
        "colab_type": "text"
      },
      "source": [
        "<a href=\"https://colab.research.google.com/github/Cornelio1983/Python-Funcoes/blob/main/Python_Funcoes.ipynb\" target=\"_parent\"><img src=\"https://colab.research.google.com/assets/colab-badge.svg\" alt=\"Open In Colab\"/></a>"
      ]
    },
    {
      "cell_type": "code",
      "execution_count": 4,
      "metadata": {
        "colab": {
          "base_uri": "https://localhost:8080/"
        },
        "id": "po3Gnm7ikhHo",
        "outputId": "83d47636-5cd4-426f-88d6-29fb4fd9fc60"
      },
      "outputs": [
        {
          "output_type": "stream",
          "name": "stdout",
          "text": [
            "9\n",
            "25\n",
            "18\n"
          ]
        }
      ],
      "source": [
        "# Função para somar dois números\n",
        "\n",
        "def soma(a, b):\n",
        "  s = a + b\n",
        "  print(s)\n",
        "\n",
        "soma(4, 5)\n",
        "soma(10, 15)\n",
        "soma(6, 12)"
      ]
    },
    {
      "cell_type": "code",
      "source": [],
      "metadata": {
        "id": "-610FTLVlB2p"
      },
      "execution_count": null,
      "outputs": []
    }
  ]
}