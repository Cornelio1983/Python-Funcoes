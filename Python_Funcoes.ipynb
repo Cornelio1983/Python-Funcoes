{
  "nbformat": 4,
  "nbformat_minor": 0,
  "metadata": {
    "colab": {
      "provenance": [],
      "authorship_tag": "ABX9TyO5VNwQQOjjwCJwT7Yucpbv",
      "include_colab_link": true
    },
    "kernelspec": {
      "name": "python3",
      "display_name": "Python 3"
    },
    "language_info": {
      "name": "python"
    }
  },
  "cells": [
    {
      "cell_type": "markdown",
      "metadata": {
        "id": "view-in-github",
        "colab_type": "text"
      },
      "source": [
        "<a href=\"https://colab.research.google.com/github/Cornelio1983/Python-Funcoes/blob/main/Python_Funcoes.ipynb\" target=\"_parent\"><img src=\"https://colab.research.google.com/assets/colab-badge.svg\" alt=\"Open In Colab\"/></a>"
      ]
    },
    {
      "cell_type": "code",
      "execution_count": 8,
      "metadata": {
        "colab": {
          "base_uri": "https://localhost:8080/"
        },
        "id": "po3Gnm7ikhHo",
        "outputId": "cd4dbbc4-9595-44d3-d065-48bc5267e684"
      },
      "outputs": [
        {
          "output_type": "stream",
          "name": "stdout",
          "text": [
            "A = 4 e B = 5\n",
            "A soma de A + B = 9\n",
            "\n",
            "A = 10 e B = 15\n",
            "A soma de A + B = 25\n",
            "\n",
            "A = 6 e B = 12\n",
            "A soma de A + B = 18\n",
            "\n"
          ]
        }
      ],
      "source": [
        "# Função para somar dois números\n",
        "\n",
        "def soma(a, b):\n",
        "  print(f'A = {a} e B = {b}')\n",
        "  s = a + b\n",
        "  print(f'A soma de A + B = {s}\\n')\n",
        "\n",
        "# Passando parametros\n",
        "soma(4, 5)\n",
        "soma(10, 15)\n",
        "soma(6, 12)"
      ]
    },
    {
      "cell_type": "code",
      "source": [],
      "metadata": {
        "id": "-610FTLVlB2p"
      },
      "execution_count": null,
      "outputs": []
    }
  ]
}